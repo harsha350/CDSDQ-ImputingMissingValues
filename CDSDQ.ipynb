{
 "cells": [
  {
   "cell_type": "code",
   "execution_count": 1,
   "metadata": {},
   "outputs": [],
   "source": [
    "import pandas as pd\n",
    "import numpy as np\n",
    "import scipy as sc\n",
    "from matplotlib import pyplot as plt\n",
    "import seaborn as sns\n",
    "import sqlite3"
   ]
  },
  {
   "cell_type": "code",
   "execution_count": 2,
   "metadata": {},
   "outputs": [
    {
     "name": "stderr",
     "output_type": "stream",
     "text": [
      "Python 2.7.14\n"
     ]
    }
   ],
   "source": [
    "!python --version"
   ]
  },
  {
   "cell_type": "markdown",
   "metadata": {},
   "source": [
    "## Loading the data\n",
    "    \n",
    "We are importing the data from remote database and we are using Impala connectors to establish the connect.\n",
    "<br>\n",
    "The size of total data is more than 20 Million rows, but to make it simple for this sample project model has been trained on only 50K rows."
   ]
  },
  {
   "cell_type": "code",
   "execution_count": 3,
   "metadata": {},
   "outputs": [],
   "source": [
    "# import os\n",
    "# import pandas\n",
    "# import impala\n",
    "# from impala.dbapi import connect\n",
    "# from impala.util import as_pandas\n",
    "\n",
    "# # Specify HIVE_HMS_HOST as an environment variable in your project settings\n",
    "# HIVE_HMS_HOST = os.getenv('HIVE_HMS_HOST', '192.168.208.128')\n",
    "\n",
    "# # This connection string depends on your cluster setup and authentication mechanism\n",
    "# conn = connect(host=HIVE_HMS_HOST,\n",
    "#                port='10000',\n",
    "#                auth_mechanism='PLAIN',\n",
    "#                user='cloudera', password='cloudera', database='cdsdq' )\n",
    "# cursor = conn.cursor()\n",
    "# cursor.execute(\"select * from retailer_missing\")\n",
    "# tables = as_pandas(cursor)\n"
   ]
  },
  {
   "cell_type": "code",
   "execution_count": 4,
   "metadata": {},
   "outputs": [],
   "source": [
    "# import sys\n",
    "# data = tables\n",
    "# sys.getsizeof(data)"
   ]
  },
  {
   "cell_type": "code",
   "execution_count": 5,
   "metadata": {},
   "outputs": [
    {
     "data": {
      "text/html": [
       "<div>\n",
       "<style scoped>\n",
       "    .dataframe tbody tr th:only-of-type {\n",
       "        vertical-align: middle;\n",
       "    }\n",
       "\n",
       "    .dataframe tbody tr th {\n",
       "        vertical-align: top;\n",
       "    }\n",
       "\n",
       "    .dataframe thead th {\n",
       "        text-align: right;\n",
       "    }\n",
       "</style>\n",
       "<table border=\"1\" class=\"dataframe\">\n",
       "  <thead>\n",
       "    <tr style=\"text-align: right;\">\n",
       "      <th></th>\n",
       "      <th>Index</th>\n",
       "      <th>Sale_date</th>\n",
       "      <th>weekday_name</th>\n",
       "      <th>product</th>\n",
       "      <th>assessment</th>\n",
       "      <th>month</th>\n",
       "      <th>weekno</th>\n",
       "      <th>store_number</th>\n",
       "      <th>volume</th>\n",
       "      <th>turnover</th>\n",
       "      <th>turnover_missing</th>\n",
       "    </tr>\n",
       "  </thead>\n",
       "  <tbody>\n",
       "    <tr>\n",
       "      <th>0</th>\n",
       "      <td>169949</td>\n",
       "      <td>4/7/2017 0:00</td>\n",
       "      <td>Friday</td>\n",
       "      <td>CREST B+S 2PACK 75ML</td>\n",
       "      <td>Right Data</td>\n",
       "      <td>4</td>\n",
       "      <td>14</td>\n",
       "      <td>2732</td>\n",
       "      <td>2</td>\n",
       "      <td>48.10</td>\n",
       "      <td>48.10</td>\n",
       "    </tr>\n",
       "    <tr>\n",
       "      <th>1</th>\n",
       "      <td>169950</td>\n",
       "      <td>4/7/2017 0:00</td>\n",
       "      <td>Friday</td>\n",
       "      <td>CREST B+S 2PACK 75ML</td>\n",
       "      <td>Right Data</td>\n",
       "      <td>4</td>\n",
       "      <td>14</td>\n",
       "      <td>2768</td>\n",
       "      <td>6</td>\n",
       "      <td>149.46</td>\n",
       "      <td>149.46</td>\n",
       "    </tr>\n",
       "  </tbody>\n",
       "</table>\n",
       "</div>"
      ],
      "text/plain": [
       "    Index      Sale_date weekday_name               product  assessment  \\\n",
       "0  169949  4/7/2017 0:00       Friday  CREST B+S 2PACK 75ML  Right Data   \n",
       "1  169950  4/7/2017 0:00       Friday  CREST B+S 2PACK 75ML  Right Data   \n",
       "\n",
       "   month  weekno  store_number  volume  turnover  turnover_missing  \n",
       "0      4      14          2732       2     48.10             48.10  \n",
       "1      4      14          2768       6    149.46            149.46  "
      ]
     },
     "execution_count": 5,
     "metadata": {},
     "output_type": "execute_result"
    }
   ],
   "source": [
    "## remove this from original\n",
    "import pandas as pd\n",
    "\n",
    "data = pd.read_csv('D:\\Python27\\CDSDQ Final Assignments\\sqlite_impala_missing.csv')\n",
    "data.head(2)"
   ]
  },
  {
   "cell_type": "code",
   "execution_count": 6,
   "metadata": {},
   "outputs": [
    {
     "name": "stdout",
     "output_type": "stream",
     "text": [
      "Index([u'Index', u'Sale_date', u'weekday_name', u'product', u'assessment',\n",
      "       u'month', u'weekno', u'store_number', u'volume', u'turnover',\n",
      "       u'turnover_missing'],\n",
      "      dtype='object')\n"
     ]
    }
   ],
   "source": [
    "data.columns = ['Index','Sale_date','weekday_name','product','assessment','month','weekno','store_number','volume','turnover','turnover_missing']\n",
    "print(data.columns)"
   ]
  },
  {
   "cell_type": "code",
   "execution_count": 7,
   "metadata": {},
   "outputs": [],
   "source": [
    "data = data[['Sale_date','weekday_name','product','assessment','month','weekno','store_number','volume','turnover','turnover_missing']]"
   ]
  },
  {
   "cell_type": "code",
   "execution_count": 8,
   "metadata": {},
   "outputs": [],
   "source": [
    "first_set = data"
   ]
  },
  {
   "cell_type": "code",
   "execution_count": 9,
   "metadata": {},
   "outputs": [],
   "source": [
    "import warnings\n",
    "warnings.filterwarnings(\"ignore\")\n",
    "\n",
    "first_set.volume = first_set.volume.astype(float)\n",
    "first_set.turnover = first_set.turnover.astype(float)\n",
    "first_set.turnover_missing = first_set.turnover_missing.astype(float)\n",
    "first_set.weekno = first_set.weekno.astype(int)\n",
    "first_set.month = first_set.month.astype(int)\n",
    "first_set.store_number = first_set.store_number.astype(int)\n",
    "first_set['Sale_date'] =  pd.to_datetime(first_set['Sale_date'])\n",
    "first_set['product'] = pd.DataFrame(first_set['product'])\n"
   ]
  },
  {
   "cell_type": "code",
   "execution_count": 10,
   "metadata": {},
   "outputs": [
    {
     "data": {
      "text/html": [
       "<div>\n",
       "<style scoped>\n",
       "    .dataframe tbody tr th:only-of-type {\n",
       "        vertical-align: middle;\n",
       "    }\n",
       "\n",
       "    .dataframe tbody tr th {\n",
       "        vertical-align: top;\n",
       "    }\n",
       "\n",
       "    .dataframe thead th {\n",
       "        text-align: right;\n",
       "    }\n",
       "</style>\n",
       "<table border=\"1\" class=\"dataframe\">\n",
       "  <thead>\n",
       "    <tr style=\"text-align: right;\">\n",
       "      <th></th>\n",
       "      <th>Sale_date</th>\n",
       "      <th>weekday_name</th>\n",
       "      <th>product</th>\n",
       "      <th>assessment</th>\n",
       "      <th>month</th>\n",
       "      <th>weekno</th>\n",
       "      <th>store_number</th>\n",
       "      <th>volume</th>\n",
       "      <th>turnover</th>\n",
       "      <th>turnover_missing</th>\n",
       "    </tr>\n",
       "  </thead>\n",
       "  <tbody>\n",
       "    <tr>\n",
       "      <th>0</th>\n",
       "      <td>2017-04-07</td>\n",
       "      <td>Friday</td>\n",
       "      <td>CREST B+S 2PACK 75ML</td>\n",
       "      <td>Right Data</td>\n",
       "      <td>4</td>\n",
       "      <td>14</td>\n",
       "      <td>2732</td>\n",
       "      <td>2.0</td>\n",
       "      <td>48.10</td>\n",
       "      <td>48.10</td>\n",
       "    </tr>\n",
       "    <tr>\n",
       "      <th>1</th>\n",
       "      <td>2017-04-07</td>\n",
       "      <td>Friday</td>\n",
       "      <td>CREST B+S 2PACK 75ML</td>\n",
       "      <td>Right Data</td>\n",
       "      <td>4</td>\n",
       "      <td>14</td>\n",
       "      <td>2768</td>\n",
       "      <td>6.0</td>\n",
       "      <td>149.46</td>\n",
       "      <td>149.46</td>\n",
       "    </tr>\n",
       "    <tr>\n",
       "      <th>2</th>\n",
       "      <td>2017-04-07</td>\n",
       "      <td>Friday</td>\n",
       "      <td>CREST B+S 2PACK 75ML</td>\n",
       "      <td>Right Data</td>\n",
       "      <td>4</td>\n",
       "      <td>14</td>\n",
       "      <td>2839</td>\n",
       "      <td>3.0</td>\n",
       "      <td>72.15</td>\n",
       "      <td>72.15</td>\n",
       "    </tr>\n",
       "    <tr>\n",
       "      <th>3</th>\n",
       "      <td>2017-04-07</td>\n",
       "      <td>Friday</td>\n",
       "      <td>CREST B+S 2PACK 75ML</td>\n",
       "      <td>Right Data</td>\n",
       "      <td>4</td>\n",
       "      <td>14</td>\n",
       "      <td>2840</td>\n",
       "      <td>3.0</td>\n",
       "      <td>72.15</td>\n",
       "      <td>72.15</td>\n",
       "    </tr>\n",
       "    <tr>\n",
       "      <th>4</th>\n",
       "      <td>2017-04-07</td>\n",
       "      <td>Friday</td>\n",
       "      <td>CREST B+S 2PACK 75ML</td>\n",
       "      <td>Right Data</td>\n",
       "      <td>4</td>\n",
       "      <td>14</td>\n",
       "      <td>2947</td>\n",
       "      <td>4.0</td>\n",
       "      <td>96.20</td>\n",
       "      <td>96.20</td>\n",
       "    </tr>\n",
       "  </tbody>\n",
       "</table>\n",
       "</div>"
      ],
      "text/plain": [
       "   Sale_date weekday_name               product  assessment  month  weekno  \\\n",
       "0 2017-04-07       Friday  CREST B+S 2PACK 75ML  Right Data      4      14   \n",
       "1 2017-04-07       Friday  CREST B+S 2PACK 75ML  Right Data      4      14   \n",
       "2 2017-04-07       Friday  CREST B+S 2PACK 75ML  Right Data      4      14   \n",
       "3 2017-04-07       Friday  CREST B+S 2PACK 75ML  Right Data      4      14   \n",
       "4 2017-04-07       Friday  CREST B+S 2PACK 75ML  Right Data      4      14   \n",
       "\n",
       "   store_number  volume  turnover  turnover_missing  \n",
       "0          2732     2.0     48.10             48.10  \n",
       "1          2768     6.0    149.46            149.46  \n",
       "2          2839     3.0     72.15             72.15  \n",
       "3          2840     3.0     72.15             72.15  \n",
       "4          2947     4.0     96.20             96.20  "
      ]
     },
     "execution_count": 10,
     "metadata": {},
     "output_type": "execute_result"
    }
   ],
   "source": [
    "first_set.head()"
   ]
  },
  {
   "cell_type": "markdown",
   "metadata": {},
   "source": [
    "## Creating another column to Assessment to categorize the data based on the guidelines\n",
    "\n",
    "data has been categorized into \"Right Data\", \"Missing Data\" and \"Invalid Data\" <br>\n",
    "we will consider the right data and run our model to check how accurate are the predictions"
   ]
  },
  {
   "cell_type": "code",
   "execution_count": 11,
   "metadata": {},
   "outputs": [],
   "source": [
    "import warnings\n",
    "warnings.filterwarnings('ignore')\n",
    "import math\n",
    "def variable(row):\n",
    "    x = row['volume']\n",
    "    y = row['turnover_missing']\n",
    "#     print(x,y, type(x), type(y), math.isnan(y))\n",
    "    if ((x==0) & (y==0)):\n",
    "        return 'Right Data'\n",
    "    if ((x>0) & (y>0)):\n",
    "        return 'Right Data'\n",
    "    if ((x<0) & (y<0)):\n",
    "        return 'Right Data'\n",
    "    if ((x!=0) & (math.isnan(y))):\n",
    "        return 'Missing Data'\n",
    "    if ((x==0) & (math.isnan(y))):\n",
    "        return 'Missing Data'\n",
    "    if ((math.isnan(x)) & (y!=0)):\n",
    "        return 'Missing Data'\n",
    "    return 'Invalid Data'\n",
    "    \n",
    "first_set['Assessment'] = first_set.apply(variable, axis=1)"
   ]
  },
  {
   "cell_type": "markdown",
   "metadata": {},
   "source": [
    "### Checking for Null values in the Volume "
   ]
  },
  {
   "cell_type": "code",
   "execution_count": 12,
   "metadata": {},
   "outputs": [
    {
     "name": "stdout",
     "output_type": "stream",
     "text": [
      "('Null Values in Volume:', 0)\n",
      "-----\n",
      "(58836, 11)\n",
      "(58836, 11)\n"
     ]
    }
   ],
   "source": [
    "sample_V = first_set[first_set['volume']!=0]\n",
    "sample2_V = sample_V[sample_V['volume'].notnull()]\n",
    "print('Null Values in Volume:', sample2_V.volume.isnull().sum())\n",
    "print('-----')\n",
    "# Shape of the total data set and Dataset after removing zeros from Volume.\n",
    "print(first_set.shape)\n",
    "print(sample2_V.shape)"
   ]
  },
  {
   "cell_type": "markdown",
   "metadata": {},
   "source": [
    "Plotting the Distribution of turnover data"
   ]
  },
  {
   "cell_type": "code",
   "execution_count": 13,
   "metadata": {
    "scrolled": true
   },
   "outputs": [
    {
     "data": {
      "image/png": "[encoded data removed]",
      "text/plain": [
       "<matplotlib.figure.Figure at 0x164479b0>"
      ]
     },
     "metadata": {},
     "output_type": "display_data"
    }
   ],
   "source": [
    "%matplotlib inline\n",
    "\n",
    "# sns.FacetGrid(sample2_V, size=4).map(sns.distplot, 'volume')\n",
    "sns.kdeplot(sample2_V.turnover)\n",
    "plt.grid()"
   ]
  },
  {
   "cell_type": "code",
   "execution_count": 14,
   "metadata": {},
   "outputs": [
    {
     "data": {
      "text/plain": [
       "<matplotlib.axes._subplots.AxesSubplot at 0x16421278>"
      ]
     },
     "execution_count": 14,
     "metadata": {},
     "output_type": "execute_result"
    },
    {
     "data": {
      "image/png": "[encoded data removed]",
      "text/plain": [
       "<matplotlib.figure.Figure at 0x107b46d8>"
      ]
     },
     "metadata": {},
     "output_type": "display_data"
    }
   ],
   "source": [
    "sns.boxplot(sample2_V.turnover)"
   ]
  },
  {
   "cell_type": "code",
   "execution_count": 15,
   "metadata": {},
   "outputs": [],
   "source": [
    "second_set = first_set"
   ]
  },
  {
   "cell_type": "code",
   "execution_count": 16,
   "metadata": {},
   "outputs": [
    {
     "data": {
      "text/html": [
       "<div>\n",
       "<style scoped>\n",
       "    .dataframe tbody tr th:only-of-type {\n",
       "        vertical-align: middle;\n",
       "    }\n",
       "\n",
       "    .dataframe tbody tr th {\n",
       "        vertical-align: top;\n",
       "    }\n",
       "\n",
       "    .dataframe thead th {\n",
       "        text-align: right;\n",
       "    }\n",
       "</style>\n",
       "<table border=\"1\" class=\"dataframe\">\n",
       "  <thead>\n",
       "    <tr style=\"text-align: right;\">\n",
       "      <th></th>\n",
       "      <th>month</th>\n",
       "      <th>weekno</th>\n",
       "      <th>store_number</th>\n",
       "      <th>volume</th>\n",
       "      <th>turnover</th>\n",
       "      <th>turnover_missing</th>\n",
       "    </tr>\n",
       "  </thead>\n",
       "  <tbody>\n",
       "    <tr>\n",
       "      <th>count</th>\n",
       "      <td>58836.0</td>\n",
       "      <td>58836.000000</td>\n",
       "      <td>58836.000000</td>\n",
       "      <td>58836.000000</td>\n",
       "      <td>58836.000000</td>\n",
       "      <td>58816.000000</td>\n",
       "    </tr>\n",
       "    <tr>\n",
       "      <th>mean</th>\n",
       "      <td>4.0</td>\n",
       "      <td>15.776837</td>\n",
       "      <td>2926.835016</td>\n",
       "      <td>4.238205</td>\n",
       "      <td>121.309352</td>\n",
       "      <td>121.320219</td>\n",
       "    </tr>\n",
       "    <tr>\n",
       "      <th>std</th>\n",
       "      <td>0.0</td>\n",
       "      <td>1.461136</td>\n",
       "      <td>1239.128888</td>\n",
       "      <td>11.273705</td>\n",
       "      <td>216.870703</td>\n",
       "      <td>216.904153</td>\n",
       "    </tr>\n",
       "    <tr>\n",
       "      <th>min</th>\n",
       "      <td>4.0</td>\n",
       "      <td>14.000000</td>\n",
       "      <td>58.000000</td>\n",
       "      <td>-2.000000</td>\n",
       "      <td>-187.940000</td>\n",
       "      <td>-187.940000</td>\n",
       "    </tr>\n",
       "    <tr>\n",
       "      <th>25%</th>\n",
       "      <td>4.0</td>\n",
       "      <td>15.000000</td>\n",
       "      <td>1892.000000</td>\n",
       "      <td>1.000000</td>\n",
       "      <td>34.400000</td>\n",
       "      <td>34.400000</td>\n",
       "    </tr>\n",
       "    <tr>\n",
       "      <th>50%</th>\n",
       "      <td>4.0</td>\n",
       "      <td>16.000000</td>\n",
       "      <td>3016.000000</td>\n",
       "      <td>2.000000</td>\n",
       "      <td>63.800000</td>\n",
       "      <td>63.800000</td>\n",
       "    </tr>\n",
       "    <tr>\n",
       "      <th>75%</th>\n",
       "      <td>4.0</td>\n",
       "      <td>17.000000</td>\n",
       "      <td>3807.000000</td>\n",
       "      <td>4.000000</td>\n",
       "      <td>124.140000</td>\n",
       "      <td>124.140000</td>\n",
       "    </tr>\n",
       "    <tr>\n",
       "      <th>max</th>\n",
       "      <td>4.0</td>\n",
       "      <td>18.000000</td>\n",
       "      <td>5855.000000</td>\n",
       "      <td>553.000000</td>\n",
       "      <td>8570.640000</td>\n",
       "      <td>8570.640000</td>\n",
       "    </tr>\n",
       "  </tbody>\n",
       "</table>\n",
       "</div>"
      ],
      "text/plain": [
       "         month        weekno  store_number        volume      turnover  \\\n",
       "count  58836.0  58836.000000  58836.000000  58836.000000  58836.000000   \n",
       "mean       4.0     15.776837   2926.835016      4.238205    121.309352   \n",
       "std        0.0      1.461136   1239.128888     11.273705    216.870703   \n",
       "min        4.0     14.000000     58.000000     -2.000000   -187.940000   \n",
       "25%        4.0     15.000000   1892.000000      1.000000     34.400000   \n",
       "50%        4.0     16.000000   3016.000000      2.000000     63.800000   \n",
       "75%        4.0     17.000000   3807.000000      4.000000    124.140000   \n",
       "max        4.0     18.000000   5855.000000    553.000000   8570.640000   \n",
       "\n",
       "       turnover_missing  \n",
       "count      58816.000000  \n",
       "mean         121.320219  \n",
       "std          216.904153  \n",
       "min         -187.940000  \n",
       "25%           34.400000  \n",
       "50%           63.800000  \n",
       "75%          124.140000  \n",
       "max         8570.640000  "
      ]
     },
     "execution_count": 16,
     "metadata": {},
     "output_type": "execute_result"
    }
   ],
   "source": [
    "second_set.describe()"
   ]
  },
  {
   "cell_type": "markdown",
   "metadata": {},
   "source": [
    "Applying Transformations to reduce the Skewness in data"
   ]
  },
  {
   "cell_type": "code",
   "execution_count": 17,
   "metadata": {},
   "outputs": [],
   "source": [
    "from pynverse import inversefunc\n",
    "cube = (lambda n: n**3)\n",
    "invcube = inversefunc(cube, second_set['turnover_missing'])\n",
    "second_set['Inv_Cubic'] = invcube"
   ]
  },
  {
   "cell_type": "code",
   "execution_count": 18,
   "metadata": {},
   "outputs": [
    {
     "name": "stdout",
     "output_type": "stream",
     "text": [
      "8.417318692610143\n",
      "1.8753148541925788\n"
     ]
    }
   ],
   "source": [
    "print(first_set.turnover_missing.skew())\n",
    "print(second_set['Inv_Cubic'].skew())"
   ]
  },
  {
   "cell_type": "code",
   "execution_count": 19,
   "metadata": {},
   "outputs": [
    {
     "data": {
      "text/plain": [
       "<matplotlib.axes._subplots.AxesSubplot at 0x12eab630>"
      ]
     },
     "execution_count": 19,
     "metadata": {},
     "output_type": "execute_result"
    },
    {
     "data": {
      "image/png": "[encoded data removed]",
      "text/plain": [
       "<matplotlib.figure.Figure at 0x12eab8d0>"
      ]
     },
     "metadata": {},
     "output_type": "display_data"
    }
   ],
   "source": [
    "plt.subplot(211)\n",
    "sns.kdeplot(second_set.turnover)\n",
    "\n",
    "plt.subplot(212)\n",
    "sns.kdeplot(second_set['Inv_Cubic'])"
   ]
  },
  {
   "cell_type": "code",
   "execution_count": 20,
   "metadata": {},
   "outputs": [
    {
     "data": {
      "text/html": [
       "<div>\n",
       "<style scoped>\n",
       "    .dataframe tbody tr th:only-of-type {\n",
       "        vertical-align: middle;\n",
       "    }\n",
       "\n",
       "    .dataframe tbody tr th {\n",
       "        vertical-align: top;\n",
       "    }\n",
       "\n",
       "    .dataframe thead th {\n",
       "        text-align: right;\n",
       "    }\n",
       "</style>\n",
       "<table border=\"1\" class=\"dataframe\">\n",
       "  <thead>\n",
       "    <tr style=\"text-align: right;\">\n",
       "      <th></th>\n",
       "      <th>month</th>\n",
       "      <th>weekno</th>\n",
       "      <th>store_number</th>\n",
       "      <th>volume</th>\n",
       "      <th>turnover</th>\n",
       "      <th>turnover_missing</th>\n",
       "      <th>Inv_Cubic</th>\n",
       "    </tr>\n",
       "  </thead>\n",
       "  <tbody>\n",
       "    <tr>\n",
       "      <th>count</th>\n",
       "      <td>58836.0</td>\n",
       "      <td>58836.000000</td>\n",
       "      <td>58836.000000</td>\n",
       "      <td>58836.000000</td>\n",
       "      <td>58836.000000</td>\n",
       "      <td>58816.000000</td>\n",
       "      <td>58836.000000</td>\n",
       "    </tr>\n",
       "    <tr>\n",
       "      <th>mean</th>\n",
       "      <td>4.0</td>\n",
       "      <td>15.776837</td>\n",
       "      <td>2926.835016</td>\n",
       "      <td>4.238205</td>\n",
       "      <td>121.309352</td>\n",
       "      <td>121.320219</td>\n",
       "      <td>4.331135</td>\n",
       "    </tr>\n",
       "    <tr>\n",
       "      <th>std</th>\n",
       "      <td>0.0</td>\n",
       "      <td>1.461136</td>\n",
       "      <td>1239.128888</td>\n",
       "      <td>11.273705</td>\n",
       "      <td>216.870703</td>\n",
       "      <td>216.904153</td>\n",
       "      <td>1.583730</td>\n",
       "    </tr>\n",
       "    <tr>\n",
       "      <th>min</th>\n",
       "      <td>4.0</td>\n",
       "      <td>14.000000</td>\n",
       "      <td>58.000000</td>\n",
       "      <td>-2.000000</td>\n",
       "      <td>-187.940000</td>\n",
       "      <td>-187.940000</td>\n",
       "      <td>-5.728045</td>\n",
       "    </tr>\n",
       "    <tr>\n",
       "      <th>25%</th>\n",
       "      <td>4.0</td>\n",
       "      <td>15.000000</td>\n",
       "      <td>1892.000000</td>\n",
       "      <td>1.000000</td>\n",
       "      <td>34.400000</td>\n",
       "      <td>34.400000</td>\n",
       "      <td>3.252267</td>\n",
       "    </tr>\n",
       "    <tr>\n",
       "      <th>50%</th>\n",
       "      <td>4.0</td>\n",
       "      <td>16.000000</td>\n",
       "      <td>3016.000000</td>\n",
       "      <td>2.000000</td>\n",
       "      <td>63.800000</td>\n",
       "      <td>63.800000</td>\n",
       "      <td>3.995829</td>\n",
       "    </tr>\n",
       "    <tr>\n",
       "      <th>75%</th>\n",
       "      <td>4.0</td>\n",
       "      <td>17.000000</td>\n",
       "      <td>3807.000000</td>\n",
       "      <td>4.000000</td>\n",
       "      <td>124.140000</td>\n",
       "      <td>124.140000</td>\n",
       "      <td>4.988507</td>\n",
       "    </tr>\n",
       "    <tr>\n",
       "      <th>max</th>\n",
       "      <td>4.0</td>\n",
       "      <td>18.000000</td>\n",
       "      <td>5855.000000</td>\n",
       "      <td>553.000000</td>\n",
       "      <td>8570.640000</td>\n",
       "      <td>8570.640000</td>\n",
       "      <td>20.464655</td>\n",
       "    </tr>\n",
       "  </tbody>\n",
       "</table>\n",
       "</div>"
      ],
      "text/plain": [
       "         month        weekno  store_number        volume      turnover  \\\n",
       "count  58836.0  58836.000000  58836.000000  58836.000000  58836.000000   \n",
       "mean       4.0     15.776837   2926.835016      4.238205    121.309352   \n",
       "std        0.0      1.461136   1239.128888     11.273705    216.870703   \n",
       "min        4.0     14.000000     58.000000     -2.000000   -187.940000   \n",
       "25%        4.0     15.000000   1892.000000      1.000000     34.400000   \n",
       "50%        4.0     16.000000   3016.000000      2.000000     63.800000   \n",
       "75%        4.0     17.000000   3807.000000      4.000000    124.140000   \n",
       "max        4.0     18.000000   5855.000000    553.000000   8570.640000   \n",
       "\n",
       "       turnover_missing     Inv_Cubic  \n",
       "count      58816.000000  58836.000000  \n",
       "mean         121.320219      4.331135  \n",
       "std          216.904153      1.583730  \n",
       "min         -187.940000     -5.728045  \n",
       "25%           34.400000      3.252267  \n",
       "50%           63.800000      3.995829  \n",
       "75%          124.140000      4.988507  \n",
       "max         8570.640000     20.464655  "
      ]
     },
     "execution_count": 20,
     "metadata": {},
     "output_type": "execute_result"
    }
   ],
   "source": [
    "second_set.describe()"
   ]
  },
  {
   "cell_type": "code",
   "execution_count": 21,
   "metadata": {},
   "outputs": [],
   "source": [
    "# second_set.head()\n",
    "# # print(min(sample2_V.turnover))"
   ]
  },
  {
   "cell_type": "markdown",
   "metadata": {},
   "source": [
    "To Vectorize the Categorical data before we proceed to apply <b>OneHotEncoding</b> I have cleansed the data by removing the spaces <br>\n",
    "data shown below removing the spaces"
   ]
  },
  {
   "cell_type": "code",
   "execution_count": 22,
   "metadata": {},
   "outputs": [
    {
     "data": {
      "text/plain": [
       "0    CREST B+S 2PACK 75ML\n",
       "1    CREST B+S 2PACK 75ML\n",
       "2    CREST B+S 2PACK 75ML\n",
       "Name: product, dtype: object"
      ]
     },
     "execution_count": 22,
     "metadata": {},
     "output_type": "execute_result"
    }
   ],
   "source": [
    "second_set['product'].head(3)"
   ]
  },
  {
   "cell_type": "code",
   "execution_count": 23,
   "metadata": {},
   "outputs": [],
   "source": [
    "third_set = second_set['product'].str.replace(' ','_')"
   ]
  },
  {
   "cell_type": "code",
   "execution_count": 24,
   "metadata": {},
   "outputs": [
    {
     "data": {
      "text/plain": [
       "0    CREST_B+S_2PACK_75ML\n",
       "1    CREST_B+S_2PACK_75ML\n",
       "2    CREST_B+S_2PACK_75ML\n",
       "3    CREST_B+S_2PACK_75ML\n",
       "4    CREST_B+S_2PACK_75ML\n",
       "Name: product, dtype: object"
      ]
     },
     "execution_count": 24,
     "metadata": {},
     "output_type": "execute_result"
    }
   ],
   "source": [
    "third_set.head()"
   ]
  },
  {
   "cell_type": "code",
   "execution_count": 25,
   "metadata": {},
   "outputs": [],
   "source": [
    "third_set['product'] = third_set"
   ]
  },
  {
   "cell_type": "code",
   "execution_count": 26,
   "metadata": {},
   "outputs": [],
   "source": [
    "second_set['product'] = third_set['product']"
   ]
  },
  {
   "cell_type": "code",
   "execution_count": 27,
   "metadata": {},
   "outputs": [
    {
     "data": {
      "text/plain": [
       "Index([u'Sale_date', u'weekday_name', u'product', u'assessment', u'month',\n",
       "       u'weekno', u'store_number', u'volume', u'turnover', u'turnover_missing',\n",
       "       u'Assessment', u'Inv_Cubic'],\n",
       "      dtype='object')"
      ]
     },
     "execution_count": 27,
     "metadata": {},
     "output_type": "execute_result"
    }
   ],
   "source": [
    "second_set.columns"
   ]
  },
  {
   "cell_type": "code",
   "execution_count": 28,
   "metadata": {},
   "outputs": [
    {
     "data": {
      "text/plain": [
       "9"
      ]
     },
     "execution_count": 28,
     "metadata": {},
     "output_type": "execute_result"
    }
   ],
   "source": [
    "second_set = second_set[['Sale_date','product','Assessment','weekno','store_number','volume','turnover','turnover_missing','Inv_Cubic']]\n",
    "len(second_set.columns)"
   ]
  },
  {
   "cell_type": "code",
   "execution_count": 29,
   "metadata": {},
   "outputs": [
    {
     "name": "stdout",
     "output_type": "stream",
     "text": [
      "(58816, 9)\n",
      "(20, 9)\n"
     ]
    }
   ],
   "source": [
    "# Outliers, Invalid Data was removed from this \"Second_set\" dataset.\n",
    "# Printing the shapes of Second_set_positive, second_set_negative for reference\n",
    "\n",
    "# second_set_right = second_set[second_set.Assessment=='Right Data']\n",
    "# print(second_set_right.shape)\n",
    "\n",
    "# Finding (Right Data) in Turnover column\n",
    "second_set_Right = second_set[second_set['Assessment']=='Right Data']\n",
    "print(second_set_Right.shape)\n",
    "\n",
    "# # Finding (Missing Data) values in Turnover column \n",
    "second_set_Missing = second_set[second_set['Assessment']=='Missing Data']\n",
    "print(second_set_Missing.shape)"
   ]
  },
  {
   "cell_type": "markdown",
   "metadata": {},
   "source": [
    "## Vectorizing the Product Name"
   ]
  },
  {
   "cell_type": "code",
   "execution_count": 30,
   "metadata": {},
   "outputs": [],
   "source": [
    "fourth_set = second_set"
   ]
  },
  {
   "cell_type": "code",
   "execution_count": 31,
   "metadata": {},
   "outputs": [
    {
     "data": {
      "text/plain": [
       "Index([u'Sale_date', u'product', u'Assessment', u'weekno', u'store_number',\n",
       "       u'volume', u'turnover', u'turnover_missing', u'Inv_Cubic'],\n",
       "      dtype='object')"
      ]
     },
     "execution_count": 31,
     "metadata": {},
     "output_type": "execute_result"
    }
   ],
   "source": [
    "fourth_set.columns"
   ]
  },
  {
   "cell_type": "code",
   "execution_count": 32,
   "metadata": {},
   "outputs": [
    {
     "data": {
      "text/plain": [
       "(58836, 9)"
      ]
     },
     "execution_count": 32,
     "metadata": {},
     "output_type": "execute_result"
    }
   ],
   "source": [
    "fourth_set.shape"
   ]
  },
  {
   "cell_type": "code",
   "execution_count": 33,
   "metadata": {},
   "outputs": [],
   "source": [
    "# Vectorizing on the \"Products\" of second_set (contains no outliers and Invalid data)\n",
    "\n",
    "from sklearn.feature_extraction.text import CountVectorizer\n",
    "OHE = CountVectorizer()\n",
    "fourth_set1 = OHE.fit_transform(second_set['product'])\n",
    "fourth_set2 = second_set['store_number'].values.reshape(-1,1)\n",
    "fourth_set3 = second_set['weekno'].values.reshape(-1,1)\n",
    "# fourth_set4 = second_set['Store'].reshape(-1,1)\n",
    "fourth_set4 = second_set['volume'].values.reshape(-1,1)\n"
   ]
  },
  {
   "cell_type": "code",
   "execution_count": 34,
   "metadata": {},
   "outputs": [
    {
     "name": "stdout",
     "output_type": "stream",
     "text": [
      "(58836, 586) (58836L, 1L) (58836L, 1L) (58836L, 1L)\n"
     ]
    }
   ],
   "source": [
    "print fourth_set1.shape, fourth_set2.shape, fourth_set3.shape, fourth_set4.shape"
   ]
  },
  {
   "cell_type": "code",
   "execution_count": 35,
   "metadata": {},
   "outputs": [
    {
     "data": {
      "text/plain": [
       "dtype('float64')"
      ]
     },
     "execution_count": 35,
     "metadata": {},
     "output_type": "execute_result"
    }
   ],
   "source": [
    "# Applying One Hot Encoding on the \"Products\" of  Second_set.\n",
    "\n",
    "from sklearn import preprocessing\n",
    "\n",
    "# limit to categorical data using df.select_dtypes()\n",
    "Onehot = second_set[['Sale_date','product','weekno','store_number','volume','turnover','turnover_missing','Inv_Cubic']]\n",
    "# Onehot.columns\n",
    "X = Onehot.select_dtypes(include=[object])\n",
    "X.head(3)\n",
    "\n",
    "# 1. INSTANTIATE\n",
    "# encode labels with value between 0 and n_classes-1.\n",
    "le = preprocessing.LabelEncoder()\n",
    "# 2/3. FIT AND TRANSFORM\n",
    "# use df.apply() to apply le.fit_transform to all columns\n",
    "X_2 = X.apply(le.fit_transform)\n",
    "X_2.head()\n",
    "enc = preprocessing.OneHotEncoder()\n",
    "enc.fit(X_2)\n",
    "fourth_set1 = enc.transform(X_2)\n",
    "fourth_set1.dtype"
   ]
  },
  {
   "cell_type": "markdown",
   "metadata": {},
   "source": [
    "<p><b>Training Dataset</b></p>"
   ]
  },
  {
   "cell_type": "code",
   "execution_count": 36,
   "metadata": {},
   "outputs": [],
   "source": [
    "from sklearn.model_selection import train_test_split"
   ]
  },
  {
   "cell_type": "code",
   "execution_count": 37,
   "metadata": {},
   "outputs": [],
   "source": [
    "Train_Products = fourth_set1[np.where(second_set['Assessment']=='Right Data')]\n",
    "Train_store_number = fourth_set2[np.where(second_set['Assessment']=='Right Data')]\n",
    "Train_weekno = fourth_set3[np.where(second_set['Assessment']=='Right Data')]\n",
    "# Train_Store = fourth_set4[np.where(second_set['Assessment']=='Right Data')]\n",
    "Train_Volume = fourth_set4[np.where(second_set['Assessment']=='Right Data')]\n"
   ]
  },
  {
   "cell_type": "code",
   "execution_count": 38,
   "metadata": {},
   "outputs": [
    {
     "name": "stdout",
     "output_type": "stream",
     "text": [
      "(58816, 578)\n",
      "(58816L,)\n"
     ]
    }
   ],
   "source": [
    "from scipy.sparse import hstack\n",
    "Train_X = hstack((Train_Products, Train_store_number, Train_weekno, Train_Volume))\n",
    "Train_Y = second_set_Right.Inv_Cubic\n",
    "\n",
    "print(Train_X.shape)\n",
    "print(Train_Y.shape)"
   ]
  },
  {
   "cell_type": "markdown",
   "metadata": {},
   "source": [
    "<p><b> Test Dataset </b></p>"
   ]
  },
  {
   "cell_type": "code",
   "execution_count": 39,
   "metadata": {},
   "outputs": [],
   "source": [
    "Test_Products = fourth_set1[np.where(second_set['Assessment']=='Missing Data')]\n",
    "Test_weekday = fourth_set2[np.where(second_set['Assessment']=='Missing Data')]\n",
    "Test_weekno = fourth_set3[np.where(second_set['Assessment']=='Missing Data')]\n",
    "Test_Volume = fourth_set4[np.where(second_set['Assessment']=='Missing Data')]"
   ]
  },
  {
   "cell_type": "code",
   "execution_count": 40,
   "metadata": {},
   "outputs": [],
   "source": [
    "from scipy.sparse import hstack\n",
    "Test_X = hstack((Test_Products, Test_weekday, Test_weekno, Test_Volume))\n",
    "Test_Y = second_set_Missing.turnover_missing\n"
   ]
  },
  {
   "cell_type": "code",
   "execution_count": 41,
   "metadata": {},
   "outputs": [
    {
     "name": "stdout",
     "output_type": "stream",
     "text": [
      "(20, 578)\n",
      "(20L,)\n",
      "==================================================\n"
     ]
    }
   ],
   "source": [
    "print(Test_X.shape)\n",
    "print(Test_Y.shape)\n",
    "print '='*50"
   ]
  },
  {
   "cell_type": "code",
   "execution_count": 42,
   "metadata": {},
   "outputs": [
    {
     "name": "stdout",
     "output_type": "stream",
     "text": [
      "(58816, 578)\n",
      "(58816L,)\n",
      "(20, 578)\n",
      "(20L,)\n"
     ]
    }
   ],
   "source": [
    "print Train_X.shape\n",
    "print Train_Y.shape\n",
    "print Test_X.shape\n",
    "print Test_Y.shape"
   ]
  },
  {
   "cell_type": "code",
   "execution_count": 43,
   "metadata": {},
   "outputs": [],
   "source": [
    "Train_X = Train_X.tocsr()\n",
    "Test_X = Test_X.tocsr()"
   ]
  },
  {
   "cell_type": "code",
   "execution_count": 44,
   "metadata": {},
   "outputs": [],
   "source": [
    "T_X = Train_X[0:50000]\n",
    "T_Y = Train_Y[:50000]\n",
    "Val_X = Train_X[50000:]\n",
    "Val_Y = Train_Y[50000:]"
   ]
  },
  {
   "cell_type": "code",
   "execution_count": 45,
   "metadata": {},
   "outputs": [
    {
     "name": "stdout",
     "output_type": "stream",
     "text": [
      "(50000, 578) (50000L,) (8816, 578) (8816L,)\n"
     ]
    }
   ],
   "source": [
    "print T_X.shape, T_Y.shape, Val_X.shape, Val_Y.shape"
   ]
  },
  {
   "cell_type": "markdown",
   "metadata": {},
   "source": [
    "XGb model "
   ]
  },
  {
   "cell_type": "code",
   "execution_count": 76,
   "metadata": {},
   "outputs": [
    {
     "name": "stdout",
     "output_type": "stream",
     "text": [
      "train accuracy for XGB: 81.98\n",
      "Validation accuracy for XGB: 81.06\n"
     ]
    }
   ],
   "source": [
    "from xgboost.sklearn import XGBRegressor\n",
    "# params = {'learning_rate' : 0.1,'n_estimators' : 400,'max_depth' : 5,'min_child_weight' : 4,'gamma' : 0.2,'reg_lambda' : 0,'booster' : 'gbtree' ,'subsample' : 0.9,'reg_alpha' : 0.001,'colsample_bytree' : 0.9,'n_jobs' : -1,'silent' : True,'scale_pos_weight' : 1}\n",
    "model = XGBRegressor()\n",
    "model.fit(T_X, T_Y)\n",
    "pred = model.predict(Val_X)\n",
    "train_accuracy = round(model.score(T_X, T_Y) * 100, 2)\n",
    "validation_accuracy = round(model.score(Val_X, Val_Y) * 100, 2)\n",
    "print \"train accuracy for XGB:\", train_accuracy\n",
    "print \"Validation accuracy for XGB:\", validation_accuracy"
   ]
  },
  {
   "cell_type": "markdown",
   "metadata": {},
   "source": [
    "KNN model"
   ]
  },
  {
   "cell_type": "code",
   "execution_count": 79,
   "metadata": {},
   "outputs": [
    {
     "name": "stdout",
     "output_type": "stream",
     "text": [
      "train accuracy for KNN: 81.85\n",
      "Validation accuracy for KNN: 63.06\n"
     ]
    }
   ],
   "source": [
    "from sklearn.neighbors import KNeighborsRegressor\n",
    "knn = KNeighborsRegressor(n_neighbors = 3)\n",
    "knn.fit(T_X, T_Y)\n",
    "knn_pred = knn.predict(Val_X)\n",
    "knn_train_accuracy = round(knn.score(T_X, T_Y) * 100, 2)\n",
    "knn_validation_accuracy = round(knn.score(Val_X, Val_Y) * 100, 2)\n",
    "\n",
    "print \"train accuracy for KNN:\", knn_train_accuracy\n",
    "print \"Validation accuracy for KNN:\", knn_validation_accuracy"
   ]
  },
  {
   "cell_type": "markdown",
   "metadata": {},
   "source": [
    "Random Forest Model"
   ]
  },
  {
   "cell_type": "code",
   "execution_count": 82,
   "metadata": {},
   "outputs": [
    {
     "name": "stdout",
     "output_type": "stream",
     "text": [
      "train accuracy for RF: 99.63\n",
      "Validation accuracy for RF: 95.91\n",
      "time taken for execution 605\n"
     ]
    }
   ],
   "source": [
    "from sklearn.ensemble import RandomForestRegressor\n",
    "start_time = datetime.datetime.now()\n",
    "random_forest = RandomForestRegressor(n_estimators=100)\n",
    "random_forest.fit(T_X, T_Y)\n",
    "RF_train_accuracy = round(random_forest.score(T_X, T_Y) * 100, 2)\n",
    "RF_validation_accuracy = round(random_forest.score(Val_X, Val_Y) * 100, 2)\n",
    "\n",
    "print \"train accuracy for RF:\", RF_train_accuracy\n",
    "print \"Validation accuracy for RF:\", RF_validation_accuracy\n",
    "end_time = datetime.datetime.now()\n",
    "print \"time taken for execution %d\" %(end_time-start_time).seconds"
   ]
  },
  {
   "cell_type": "markdown",
   "metadata": {},
   "source": [
    "Linear Model"
   ]
  },
  {
   "cell_type": "code",
   "execution_count": 84,
   "metadata": {},
   "outputs": [
    {
     "name": "stdout",
     "output_type": "stream",
     "text": [
      "train accuracy for LR: 65.99\n",
      "Validation accuracy for LR: 64.22\n"
     ]
    }
   ],
   "source": [
    "from sklearn.linear_model import LinearRegression\n",
    "Linear = LinearRegression()\n",
    "Linear.fit(T_X, T_Y)\n",
    "Linear_train_accuracy = round(Linear.score(T_X, T_Y) * 100, 2)\n",
    "Linear_validation_accuracy = round(Linear.score(Val_X, Val_Y) * 100, 2)\n",
    "\n",
    "print \"train accuracy for LR:\", Linear_train_accuracy\n",
    "print \"Validation accuracy for LR:\", Linear_validation_accuracy"
   ]
  },
  {
   "cell_type": "markdown",
   "metadata": {},
   "source": [
    "Hyperparameter Tuning for Random Forest"
   ]
  },
  {
   "cell_type": "code",
   "execution_count": null,
   "metadata": {},
   "outputs": [],
   "source": [
    "from sklearn.ensemble import RandomForestRegressor\n",
    "from sklearn.model_selection import GridSearchCV\n",
    "\n",
    "parameter_grid = {\n",
    "             'max_depth' : [4, 6, 8],\n",
    "             'n_estimators': [10, 50,100],\n",
    "             'max_features': ['sqrt', 'auto', 'log2'],\n",
    "             'min_samples_split': [0.001,0.003,0.01],\n",
    "             'min_samples_leaf': [1, 3, 10],\n",
    "             'bootstrap': [True,False],\n",
    "             }\n",
    "\n",
    "model = RandomForestRegressor(random_state=0)\n",
    "grid = GridSearchCV(estimator=model, param_grid=param_grid, n_jobs=-1)\n",
    "grid.fit(T_X, T_Y)\n",
    "\n",
    "print(grid.best_score_)\n",
    "print(grid.best_params_)"
   ]
  },
  {
   "cell_type": "markdown",
   "metadata": {},
   "source": [
    "Hyperparameter Tuning for XGB:"
   ]
  },
  {
   "cell_type": "code",
   "execution_count": null,
   "metadata": {},
   "outputs": [],
   "source": [
    "param_test6 = {\n",
    " 'n_estimators':[100, 200, 300, 400, 500, 600],\n",
    " 'learning_rate':[0.0001, 0.001, 0.01, 0.1]\n",
    "}\n",
    "gsearch6 = GridSearchCV(estimator = XGBRegressor( learning_rate =0.1, n_estimators=100, max_depth=4,\n",
    " min_child_weight=6, gamma=0.1, subsample=0.8, colsample_bytree=0.8, nthread=4, scale_pos_weight=1,seed=27), \n",
    " param_grid = param_test6, n_jobs=4,iid=False, cv=5)\n",
    "gsearch6.fit(Train_X,Train_Y)\n",
    "gsearch6.grid_scores_, gsearch6.best_params_, gsearch6.best_score_"
   ]
  },
  {
   "cell_type": "code",
   "execution_count": null,
   "metadata": {},
   "outputs": [],
   "source": [
    "param_test1 = {\n",
    " 'max_depth':[4,5,6],\n",
    " 'min_child_weight':[4,5,6]\n",
    "}\n",
    "gsearch1 = GridSearchCV(estimator = XGBRegressor( learning_rate =0.7, n_estimators=1000, max_depth=5,\n",
    " min_child_weight=4, gamma=0.1, subsample=0.8, colsample_bytree=0.8, nthread=4, scale_pos_weight=1), \n",
    " param_grid = param_test1,n_jobs=4,iid=False, cv=5)\n",
    "gsearch1.fit(Train_X,Train_Y)\n",
    "gsearch1.grid_scores_, gsearch1.best_params_, gsearch1.best_score_"
   ]
  },
  {
   "cell_type": "code",
   "execution_count": null,
   "metadata": {},
   "outputs": [],
   "source": [
    "param_test4 = {\n",
    " 'subsample':[i/10.0 for i in range(6,10)],\n",
    " 'colsample_bytree':[i/10.0 for i in range(6,10)]\n",
    "}\n",
    "gsearch4 = GridSearchCV(estimator = XGBRegressor( learning_rate =0.7, n_estimators=1000, max_depth=4,\n",
    " min_child_weight=4, gamma=0, subsample=0.8, colsample_bytree=0.8, nthread=4, scale_pos_weight=1,seed=27), \n",
    " param_grid = param_test4, n_jobs=4,iid=False, cv=5)\n",
    "gsearch4.fit(Train_X ,Train_Y)\n",
    "gsearch4.grid_scores_, gsearch4.best_params_, gsearch4.best_score_"
   ]
  },
  {
   "cell_type": "code",
   "execution_count": null,
   "metadata": {},
   "outputs": [],
   "source": [
    "param_test3 = {\n",
    " 'gamma':[i/10.0 for i in range(0,5)]\n",
    "}\n",
    "gsearch3 = GridSearchCV(estimator = XGBRegressor( learning_rate =0.7, n_estimators=1000, max_depth=4,\n",
    " min_child_weight=4, gamma=0, subsample=0.9, colsample_bytree=0.8, nthread=4, scale_pos_weight=1,seed=27), \n",
    " param_grid = param_test3,n_jobs=4,iid=False, cv=5)\n",
    "gsearch3.fit(Train_X,Train_Y)\n",
    "gsearch3.grid_scores_, gsearch3.best_params_, gsearch3.best_score_"
   ]
  },
  {
   "cell_type": "code",
   "execution_count": null,
   "metadata": {},
   "outputs": [],
   "source": [
    "param_test6 = {\n",
    " 'reg_alpha':[0, 0.001, 0.005, 0.01, 0.05]\n",
    "}\n",
    "gsearch6 = GridSearchCV(estimator = XGBRegressor( learning_rate =0.7, n_estimators=1000, max_depth=4,\n",
    " min_child_weight=4, gamma=0.0, subsample=0.9, colsample_bytree=0.8, nthread=4, scale_pos_weight=1,seed=27), \n",
    " param_grid = param_test6, n_jobs=4,iid=False, cv=5)\n",
    "gsearch6.fit(Train_X,Train_Y)\n",
    "gsearch6.grid_scores_, gsearch6.best_params_, gsearch6.best_score_"
   ]
  },
  {
   "cell_type": "code",
   "execution_count": null,
   "metadata": {},
   "outputs": [],
   "source": []
  },
  {
   "cell_type": "code",
   "execution_count": null,
   "metadata": {},
   "outputs": [],
   "source": []
  },
  {
   "cell_type": "code",
   "execution_count": null,
   "metadata": {},
   "outputs": [],
   "source": []
  },
  {
   "cell_type": "code",
   "execution_count": null,
   "metadata": {},
   "outputs": [],
   "source": []
  },
  {
   "cell_type": "code",
   "execution_count": null,
   "metadata": {},
   "outputs": [],
   "source": []
  },
  {
   "cell_type": "code",
   "execution_count": 78,
   "metadata": {},
   "outputs": [
    {
     "name": "stdout",
     "output_type": "stream",
     "text": [
      "12.900418769410157\n",
      "RMSE: 0.67\n",
      "r2: 0.81\n",
      "MAE: 0.525516\n"
     ]
    }
   ],
   "source": [
    "from sklearn.metrics import *\n",
    "from math import sqrt\n",
    "############    MAPE\n",
    "    \n",
    "print(np.mean(np.abs((Val_Y - pred) / Val_Y)) * 100)\n",
    "    \n",
    "###########     RMSE\n",
    "    \n",
    "mse = mean_squared_error(Val_Y, pred)\n",
    "RMSE=sqrt(mse)\n",
    "print(\"RMSE: %.2f\" % RMSE)\n",
    "\n",
    "###########     R2 Score\n",
    "\n",
    "r2 = r2_score(Val_Y, pred)\n",
    "print(\"r2: %.2f\" % r2)\n",
    "\n",
    "##########      MAE    \n",
    "    \n",
    "mae = mean_absolute_error(Val_Y, pred)\n",
    "print('MAE: %f' % mae)\n",
    "    "
   ]
  },
  {
   "cell_type": "code",
   "execution_count": 48,
   "metadata": {},
   "outputs": [
    {
     "data": {
      "image/png": "[encoded data removed]",
      "text/plain": [
       "<matplotlib.figure.Figure at 0x15535cc0>"
      ]
     },
     "metadata": {},
     "output_type": "display_data"
    }
   ],
   "source": [
    "from sklearn.linear_model import Ridge\n",
    "from yellowbrick.regressor import ResidualsPlot\n",
    "\n",
    "# Instantiate the linear model and visualizer\n",
    "ridge = Ridge()\n",
    "visualizer = ResidualsPlot(ridge)\n",
    "visualizer.fit(T_X, T_Y)  # Fit the training data to the model\n",
    "visualizer.score(Val_X, Val_Y)  # Evaluate the model on the test data\n",
    "visualizer.poof() "
   ]
  },
  {
   "cell_type": "code",
   "execution_count": 66,
   "metadata": {},
   "outputs": [
    {
     "name": "stdout",
     "output_type": "stream",
     "text": [
      "RMSE: 0.38\n",
      "r2: 0.94\n",
      "MAE: 0.292012\n",
      "RMSE: 0.40\n",
      "r2: 0.94\n",
      "MAE: 0.290372\n",
      "RMSE: 0.38\n",
      "r2: 0.94\n",
      "MAE: 0.294116\n",
      "RMSE: 0.39\n",
      "r2: 0.94\n",
      "MAE: 0.294579\n",
      "RMSE: 0.38\n",
      "r2: 0.95\n",
      "MAE: 0.292291\n",
      "Training Done..., Time Cost: 21\n"
     ]
    }
   ],
   "source": [
    "from sklearn.model_selection import *\n",
    "import datetime\n",
    "start_time  = datetime.datetime.now()\n",
    "\n",
    "\n",
    "kf = 5\n",
    "\n",
    "for i in range(kf):\n",
    "    X_tr, X_cv, y_tr, y_cv = train_test_split(T_X, T_Y, test_size = 0.3)\n",
    "    params = {'learning_rate' : 0.1,'n_estimators' : 400,'max_depth' : 5,'min_child_weight' : 4,'gamma' : 0.2,'reg_lambda' : 0,'booster' : 'gbtree' ,'subsample' : 0.9,'reg_alpha' : 0.001,'colsample_bytree' : 0.9,'n_jobs' : -1,'silent' : True,'scale_pos_weight' : 1}\n",
    "    \n",
    "    XGB = XGBRegressor(**params)\n",
    "    XGB.fit(X_tr, y_tr)\n",
    "\n",
    "    XGB_pred = XGB.predict(X_cv)\n",
    "\n",
    "    \n",
    "###########     RMSE\n",
    "    \n",
    "    mse = mean_squared_error(y_cv, XGB_pred)\n",
    "    RMSE=sqrt(mse)\n",
    "    print(\"RMSE: %.2f\" % RMSE)\n",
    "\n",
    "###########     R2 Score\n",
    "\n",
    "    r2 = r2_score(y_cv, XGB_pred)\n",
    "    print(\"r2: %.2f\" % r2)\n",
    "\n",
    "##########      MAE    \n",
    "    \n",
    "    mae = mean_absolute_error(y_cv, XGB_pred)\n",
    "    print('MAE: %f' % mae)\n",
    "end_time = datetime.datetime.now()\n",
    "print ('Training Done..., Time Cost: %d' % ((end_time - start_time).seconds))"
   ]
  },
  {
   "cell_type": "code",
   "execution_count": 70,
   "metadata": {},
   "outputs": [],
   "source": [
    "# from sklearn.metrics import *\n",
    "# from math import sqrt\n",
    "# ############    MAPE\n",
    "    \n",
    "# print(np.mean(np.abs((Test_Y - pred) / Test_Y)) * 100)\n",
    "    \n",
    "# ###########     RMSE\n",
    "    \n",
    "# mse = mean_squared_error(Test_Y, pred)\n",
    "# RMSE=sqrt(mse)\n",
    "# print(\"RMSE: %.2f\" % RMSE)\n",
    "\n",
    "# ###########     R2 Score\n",
    "\n",
    "# r2 = r2_score(Test_Y, pred)\n",
    "# print(\"r2: %.2f\" % r2)\n",
    "\n",
    "# ##########      MAE    \n",
    "    \n",
    "# mae = mean_absolute_error(Test_Y, pred)\n",
    "# print('MAE: %f' % mae)\n",
    "    "
   ]
  },
  {
   "cell_type": "code",
   "execution_count": null,
   "metadata": {},
   "outputs": [],
   "source": []
  },
  {
   "cell_type": "code",
   "execution_count": null,
   "metadata": {},
   "outputs": [],
   "source": []
  },
  {
   "cell_type": "code",
   "execution_count": null,
   "metadata": {},
   "outputs": [],
   "source": []
  },
  {
   "cell_type": "code",
   "execution_count": null,
   "metadata": {},
   "outputs": [],
   "source": []
  },
  {
   "cell_type": "code",
   "execution_count": null,
   "metadata": {},
   "outputs": [],
   "source": []
  },
  {
   "cell_type": "code",
   "execution_count": null,
   "metadata": {},
   "outputs": [],
   "source": []
  }
 ],
 "metadata": {
  "kernelspec": {
   "display_name": "Python 2",
   "language": "python",
   "name": "python2"
  },
  "language_info": {
   "codemirror_mode": {
    "name": "ipython",
    "version": 2
   },
   "file_extension": ".py",
   "mimetype": "text/x-python",
   "name": "python",
   "nbconvert_exporter": "python",
   "pygments_lexer": "ipython2",
   "version": "2.7.14"
  }
 },
 "nbformat": 4,
 "nbformat_minor": 2
}
